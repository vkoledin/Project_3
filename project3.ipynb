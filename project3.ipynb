{
 "cells": [
  {
   "cell_type": "code",
   "execution_count": 1,
   "metadata": {},
   "outputs": [],
   "source": [
    "%matplotlib widget"
   ]
  },
  {
   "cell_type": "code",
   "execution_count": 2,
   "metadata": {},
   "outputs": [],
   "source": [
    "import pandas as pd\n",
    "from pathlib import Path\n",
    "import matplotlib.pyplot as plt\n",
    "import numpy as np\n"
   ]
  },
  {
   "cell_type": "code",
   "execution_count": 3,
   "metadata": {},
   "outputs": [
    {
     "ename": "FileNotFoundError",
     "evalue": "[Errno 2] No such file or directory: '/Users/cillian/Downloads/netflixog.csv'",
     "output_type": "error",
     "traceback": [
      "\u001b[0;31m---------------------------------------------------------------------------\u001b[0m",
      "\u001b[0;31mFileNotFoundError\u001b[0m                         Traceback (most recent call last)",
      "Cell \u001b[0;32mIn[3], line 2\u001b[0m\n\u001b[1;32m      1\u001b[0m csv_path \u001b[38;5;241m=\u001b[39m Path(\u001b[38;5;124m\"\u001b[39m\u001b[38;5;124m/Users/cillian/Downloads/netflixog.csv\u001b[39m\u001b[38;5;124m\"\u001b[39m)\n\u001b[0;32m----> 2\u001b[0m netflix_df \u001b[38;5;241m=\u001b[39m pd\u001b[38;5;241m.\u001b[39mread_csv(csv_path)\n\u001b[1;32m      4\u001b[0m netflix_df\u001b[38;5;241m.\u001b[39mhead()\n",
      "File \u001b[0;32m/opt/anaconda3/lib/python3.11/site-packages/pandas/io/parsers/readers.py:948\u001b[0m, in \u001b[0;36mread_csv\u001b[0;34m(filepath_or_buffer, sep, delimiter, header, names, index_col, usecols, dtype, engine, converters, true_values, false_values, skipinitialspace, skiprows, skipfooter, nrows, na_values, keep_default_na, na_filter, verbose, skip_blank_lines, parse_dates, infer_datetime_format, keep_date_col, date_parser, date_format, dayfirst, cache_dates, iterator, chunksize, compression, thousands, decimal, lineterminator, quotechar, quoting, doublequote, escapechar, comment, encoding, encoding_errors, dialect, on_bad_lines, delim_whitespace, low_memory, memory_map, float_precision, storage_options, dtype_backend)\u001b[0m\n\u001b[1;32m    935\u001b[0m kwds_defaults \u001b[38;5;241m=\u001b[39m _refine_defaults_read(\n\u001b[1;32m    936\u001b[0m     dialect,\n\u001b[1;32m    937\u001b[0m     delimiter,\n\u001b[0;32m   (...)\u001b[0m\n\u001b[1;32m    944\u001b[0m     dtype_backend\u001b[38;5;241m=\u001b[39mdtype_backend,\n\u001b[1;32m    945\u001b[0m )\n\u001b[1;32m    946\u001b[0m kwds\u001b[38;5;241m.\u001b[39mupdate(kwds_defaults)\n\u001b[0;32m--> 948\u001b[0m \u001b[38;5;28;01mreturn\u001b[39;00m _read(filepath_or_buffer, kwds)\n",
      "File \u001b[0;32m/opt/anaconda3/lib/python3.11/site-packages/pandas/io/parsers/readers.py:611\u001b[0m, in \u001b[0;36m_read\u001b[0;34m(filepath_or_buffer, kwds)\u001b[0m\n\u001b[1;32m    608\u001b[0m _validate_names(kwds\u001b[38;5;241m.\u001b[39mget(\u001b[38;5;124m\"\u001b[39m\u001b[38;5;124mnames\u001b[39m\u001b[38;5;124m\"\u001b[39m, \u001b[38;5;28;01mNone\u001b[39;00m))\n\u001b[1;32m    610\u001b[0m \u001b[38;5;66;03m# Create the parser.\u001b[39;00m\n\u001b[0;32m--> 611\u001b[0m parser \u001b[38;5;241m=\u001b[39m TextFileReader(filepath_or_buffer, \u001b[38;5;241m*\u001b[39m\u001b[38;5;241m*\u001b[39mkwds)\n\u001b[1;32m    613\u001b[0m \u001b[38;5;28;01mif\u001b[39;00m chunksize \u001b[38;5;129;01mor\u001b[39;00m iterator:\n\u001b[1;32m    614\u001b[0m     \u001b[38;5;28;01mreturn\u001b[39;00m parser\n",
      "File \u001b[0;32m/opt/anaconda3/lib/python3.11/site-packages/pandas/io/parsers/readers.py:1448\u001b[0m, in \u001b[0;36mTextFileReader.__init__\u001b[0;34m(self, f, engine, **kwds)\u001b[0m\n\u001b[1;32m   1445\u001b[0m     \u001b[38;5;28mself\u001b[39m\u001b[38;5;241m.\u001b[39moptions[\u001b[38;5;124m\"\u001b[39m\u001b[38;5;124mhas_index_names\u001b[39m\u001b[38;5;124m\"\u001b[39m] \u001b[38;5;241m=\u001b[39m kwds[\u001b[38;5;124m\"\u001b[39m\u001b[38;5;124mhas_index_names\u001b[39m\u001b[38;5;124m\"\u001b[39m]\n\u001b[1;32m   1447\u001b[0m \u001b[38;5;28mself\u001b[39m\u001b[38;5;241m.\u001b[39mhandles: IOHandles \u001b[38;5;241m|\u001b[39m \u001b[38;5;28;01mNone\u001b[39;00m \u001b[38;5;241m=\u001b[39m \u001b[38;5;28;01mNone\u001b[39;00m\n\u001b[0;32m-> 1448\u001b[0m \u001b[38;5;28mself\u001b[39m\u001b[38;5;241m.\u001b[39m_engine \u001b[38;5;241m=\u001b[39m \u001b[38;5;28mself\u001b[39m\u001b[38;5;241m.\u001b[39m_make_engine(f, \u001b[38;5;28mself\u001b[39m\u001b[38;5;241m.\u001b[39mengine)\n",
      "File \u001b[0;32m/opt/anaconda3/lib/python3.11/site-packages/pandas/io/parsers/readers.py:1705\u001b[0m, in \u001b[0;36mTextFileReader._make_engine\u001b[0;34m(self, f, engine)\u001b[0m\n\u001b[1;32m   1703\u001b[0m     \u001b[38;5;28;01mif\u001b[39;00m \u001b[38;5;124m\"\u001b[39m\u001b[38;5;124mb\u001b[39m\u001b[38;5;124m\"\u001b[39m \u001b[38;5;129;01mnot\u001b[39;00m \u001b[38;5;129;01min\u001b[39;00m mode:\n\u001b[1;32m   1704\u001b[0m         mode \u001b[38;5;241m+\u001b[39m\u001b[38;5;241m=\u001b[39m \u001b[38;5;124m\"\u001b[39m\u001b[38;5;124mb\u001b[39m\u001b[38;5;124m\"\u001b[39m\n\u001b[0;32m-> 1705\u001b[0m \u001b[38;5;28mself\u001b[39m\u001b[38;5;241m.\u001b[39mhandles \u001b[38;5;241m=\u001b[39m get_handle(\n\u001b[1;32m   1706\u001b[0m     f,\n\u001b[1;32m   1707\u001b[0m     mode,\n\u001b[1;32m   1708\u001b[0m     encoding\u001b[38;5;241m=\u001b[39m\u001b[38;5;28mself\u001b[39m\u001b[38;5;241m.\u001b[39moptions\u001b[38;5;241m.\u001b[39mget(\u001b[38;5;124m\"\u001b[39m\u001b[38;5;124mencoding\u001b[39m\u001b[38;5;124m\"\u001b[39m, \u001b[38;5;28;01mNone\u001b[39;00m),\n\u001b[1;32m   1709\u001b[0m     compression\u001b[38;5;241m=\u001b[39m\u001b[38;5;28mself\u001b[39m\u001b[38;5;241m.\u001b[39moptions\u001b[38;5;241m.\u001b[39mget(\u001b[38;5;124m\"\u001b[39m\u001b[38;5;124mcompression\u001b[39m\u001b[38;5;124m\"\u001b[39m, \u001b[38;5;28;01mNone\u001b[39;00m),\n\u001b[1;32m   1710\u001b[0m     memory_map\u001b[38;5;241m=\u001b[39m\u001b[38;5;28mself\u001b[39m\u001b[38;5;241m.\u001b[39moptions\u001b[38;5;241m.\u001b[39mget(\u001b[38;5;124m\"\u001b[39m\u001b[38;5;124mmemory_map\u001b[39m\u001b[38;5;124m\"\u001b[39m, \u001b[38;5;28;01mFalse\u001b[39;00m),\n\u001b[1;32m   1711\u001b[0m     is_text\u001b[38;5;241m=\u001b[39mis_text,\n\u001b[1;32m   1712\u001b[0m     errors\u001b[38;5;241m=\u001b[39m\u001b[38;5;28mself\u001b[39m\u001b[38;5;241m.\u001b[39moptions\u001b[38;5;241m.\u001b[39mget(\u001b[38;5;124m\"\u001b[39m\u001b[38;5;124mencoding_errors\u001b[39m\u001b[38;5;124m\"\u001b[39m, \u001b[38;5;124m\"\u001b[39m\u001b[38;5;124mstrict\u001b[39m\u001b[38;5;124m\"\u001b[39m),\n\u001b[1;32m   1713\u001b[0m     storage_options\u001b[38;5;241m=\u001b[39m\u001b[38;5;28mself\u001b[39m\u001b[38;5;241m.\u001b[39moptions\u001b[38;5;241m.\u001b[39mget(\u001b[38;5;124m\"\u001b[39m\u001b[38;5;124mstorage_options\u001b[39m\u001b[38;5;124m\"\u001b[39m, \u001b[38;5;28;01mNone\u001b[39;00m),\n\u001b[1;32m   1714\u001b[0m )\n\u001b[1;32m   1715\u001b[0m \u001b[38;5;28;01massert\u001b[39;00m \u001b[38;5;28mself\u001b[39m\u001b[38;5;241m.\u001b[39mhandles \u001b[38;5;129;01mis\u001b[39;00m \u001b[38;5;129;01mnot\u001b[39;00m \u001b[38;5;28;01mNone\u001b[39;00m\n\u001b[1;32m   1716\u001b[0m f \u001b[38;5;241m=\u001b[39m \u001b[38;5;28mself\u001b[39m\u001b[38;5;241m.\u001b[39mhandles\u001b[38;5;241m.\u001b[39mhandle\n",
      "File \u001b[0;32m/opt/anaconda3/lib/python3.11/site-packages/pandas/io/common.py:863\u001b[0m, in \u001b[0;36mget_handle\u001b[0;34m(path_or_buf, mode, encoding, compression, memory_map, is_text, errors, storage_options)\u001b[0m\n\u001b[1;32m    858\u001b[0m \u001b[38;5;28;01melif\u001b[39;00m \u001b[38;5;28misinstance\u001b[39m(handle, \u001b[38;5;28mstr\u001b[39m):\n\u001b[1;32m    859\u001b[0m     \u001b[38;5;66;03m# Check whether the filename is to be opened in binary mode.\u001b[39;00m\n\u001b[1;32m    860\u001b[0m     \u001b[38;5;66;03m# Binary mode does not support 'encoding' and 'newline'.\u001b[39;00m\n\u001b[1;32m    861\u001b[0m     \u001b[38;5;28;01mif\u001b[39;00m ioargs\u001b[38;5;241m.\u001b[39mencoding \u001b[38;5;129;01mand\u001b[39;00m \u001b[38;5;124m\"\u001b[39m\u001b[38;5;124mb\u001b[39m\u001b[38;5;124m\"\u001b[39m \u001b[38;5;129;01mnot\u001b[39;00m \u001b[38;5;129;01min\u001b[39;00m ioargs\u001b[38;5;241m.\u001b[39mmode:\n\u001b[1;32m    862\u001b[0m         \u001b[38;5;66;03m# Encoding\u001b[39;00m\n\u001b[0;32m--> 863\u001b[0m         handle \u001b[38;5;241m=\u001b[39m \u001b[38;5;28mopen\u001b[39m(\n\u001b[1;32m    864\u001b[0m             handle,\n\u001b[1;32m    865\u001b[0m             ioargs\u001b[38;5;241m.\u001b[39mmode,\n\u001b[1;32m    866\u001b[0m             encoding\u001b[38;5;241m=\u001b[39mioargs\u001b[38;5;241m.\u001b[39mencoding,\n\u001b[1;32m    867\u001b[0m             errors\u001b[38;5;241m=\u001b[39merrors,\n\u001b[1;32m    868\u001b[0m             newline\u001b[38;5;241m=\u001b[39m\u001b[38;5;124m\"\u001b[39m\u001b[38;5;124m\"\u001b[39m,\n\u001b[1;32m    869\u001b[0m         )\n\u001b[1;32m    870\u001b[0m     \u001b[38;5;28;01melse\u001b[39;00m:\n\u001b[1;32m    871\u001b[0m         \u001b[38;5;66;03m# Binary mode\u001b[39;00m\n\u001b[1;32m    872\u001b[0m         handle \u001b[38;5;241m=\u001b[39m \u001b[38;5;28mopen\u001b[39m(handle, ioargs\u001b[38;5;241m.\u001b[39mmode)\n",
      "\u001b[0;31mFileNotFoundError\u001b[0m: [Errno 2] No such file or directory: '/Users/cillian/Downloads/netflixog.csv'"
     ]
    }
   ],
   "source": [
    "csv_path = Path(\"/Users/cillian/Downloads/netflixog.csv\")\n",
    "netflix_df = pd.read_csv(csv_path)\n",
    "\n",
    "netflix_df.head()"
   ]
  },
  {
   "cell_type": "code",
   "execution_count": 5,
   "metadata": {},
   "outputs": [
    {
     "data": {
      "text/html": [
       "<div>\n",
       "<style scoped>\n",
       "    .dataframe tbody tr th:only-of-type {\n",
       "        vertical-align: middle;\n",
       "    }\n",
       "\n",
       "    .dataframe tbody tr th {\n",
       "        vertical-align: top;\n",
       "    }\n",
       "\n",
       "    .dataframe thead th {\n",
       "        text-align: right;\n",
       "    }\n",
       "</style>\n",
       "<table border=\"1\" class=\"dataframe\">\n",
       "  <thead>\n",
       "    <tr style=\"text-align: right;\">\n",
       "      <th></th>\n",
       "      <th>1</th>\n",
       "      <th>Basic</th>\n",
       "      <th>10</th>\n",
       "      <th>15-01-22</th>\n",
       "      <th>10-06-23</th>\n",
       "      <th>United States</th>\n",
       "      <th>28</th>\n",
       "      <th>Male</th>\n",
       "      <th>Smartphone</th>\n",
       "      <th>1 Month</th>\n",
       "    </tr>\n",
       "  </thead>\n",
       "  <tbody>\n",
       "    <tr>\n",
       "      <th>1</th>\n",
       "      <td>2</td>\n",
       "      <td>Premium</td>\n",
       "      <td>15</td>\n",
       "      <td>05-09-21</td>\n",
       "      <td>22-06-23</td>\n",
       "      <td>Canada</td>\n",
       "      <td>35</td>\n",
       "      <td>Female</td>\n",
       "      <td>Tablet</td>\n",
       "      <td>1 Month</td>\n",
       "    </tr>\n",
       "    <tr>\n",
       "      <th>2</th>\n",
       "      <td>3</td>\n",
       "      <td>Standard</td>\n",
       "      <td>12</td>\n",
       "      <td>28-02-23</td>\n",
       "      <td>27-06-23</td>\n",
       "      <td>United Kingdom</td>\n",
       "      <td>42</td>\n",
       "      <td>Male</td>\n",
       "      <td>Smart TV</td>\n",
       "      <td>1 Month</td>\n",
       "    </tr>\n",
       "    <tr>\n",
       "      <th>3</th>\n",
       "      <td>4</td>\n",
       "      <td>Standard</td>\n",
       "      <td>12</td>\n",
       "      <td>10-07-22</td>\n",
       "      <td>26-06-23</td>\n",
       "      <td>Australia</td>\n",
       "      <td>51</td>\n",
       "      <td>Female</td>\n",
       "      <td>Laptop</td>\n",
       "      <td>1 Month</td>\n",
       "    </tr>\n",
       "    <tr>\n",
       "      <th>4</th>\n",
       "      <td>5</td>\n",
       "      <td>Basic</td>\n",
       "      <td>10</td>\n",
       "      <td>01-05-23</td>\n",
       "      <td>28-06-23</td>\n",
       "      <td>Germany</td>\n",
       "      <td>33</td>\n",
       "      <td>Male</td>\n",
       "      <td>Smartphone</td>\n",
       "      <td>1 Month</td>\n",
       "    </tr>\n",
       "    <tr>\n",
       "      <th>5</th>\n",
       "      <td>6</td>\n",
       "      <td>Premium</td>\n",
       "      <td>15</td>\n",
       "      <td>18-03-22</td>\n",
       "      <td>27-06-23</td>\n",
       "      <td>France</td>\n",
       "      <td>29</td>\n",
       "      <td>Female</td>\n",
       "      <td>Smart TV</td>\n",
       "      <td>1 Month</td>\n",
       "    </tr>\n",
       "  </tbody>\n",
       "</table>\n",
       "</div>"
      ],
      "text/plain": [
       "0  1     Basic  10  15-01-22  10-06-23   United States  28    Male  \\\n",
       "1  2   Premium  15  05-09-21  22-06-23          Canada  35  Female   \n",
       "2  3  Standard  12  28-02-23  27-06-23  United Kingdom  42    Male   \n",
       "3  4  Standard  12  10-07-22  26-06-23       Australia  51  Female   \n",
       "4  5     Basic  10  01-05-23  28-06-23         Germany  33    Male   \n",
       "5  6   Premium  15  18-03-22  27-06-23          France  29  Female   \n",
       "\n",
       "0  Smartphone  1 Month  \n",
       "1      Tablet  1 Month  \n",
       "2    Smart TV  1 Month  \n",
       "3      Laptop  1 Month  \n",
       "4  Smartphone  1 Month  \n",
       "5    Smart TV  1 Month  "
      ]
     },
     "execution_count": 5,
     "metadata": {},
     "output_type": "execute_result"
    }
   ],
   "source": [
    "netflix_df.columns = netflix_df.iloc[0]\n",
    "df_2 = netflix_df[1:]\n",
    "\n",
    "df_2.head()"
   ]
  },
  {
   "cell_type": "code",
   "execution_count": 6,
   "metadata": {},
   "outputs": [
    {
     "ename": "KeyError",
     "evalue": "\"None of ['User ID'] are in the columns\"",
     "output_type": "error",
     "traceback": [
      "\u001b[0;31m---------------------------------------------------------------------------\u001b[0m",
      "\u001b[0;31mKeyError\u001b[0m                                  Traceback (most recent call last)",
      "\u001b[0;32m/var/folders/xr/pcw01z5n4cg6ht0nx0s6z7xh0000gn/T/ipykernel_81464/4104800909.py\u001b[0m in \u001b[0;36m?\u001b[0;34m()\u001b[0m\n\u001b[0;32m----> 1\u001b[0;31m \u001b[0mnetflix_df\u001b[0m \u001b[0;34m=\u001b[0m \u001b[0mdf_2\u001b[0m\u001b[0;34m.\u001b[0m\u001b[0mset_index\u001b[0m\u001b[0;34m(\u001b[0m\u001b[0;34m\"User ID\"\u001b[0m\u001b[0;34m)\u001b[0m\u001b[0;34m\u001b[0m\u001b[0;34m\u001b[0m\u001b[0m\n\u001b[0m\u001b[1;32m      2\u001b[0m \u001b[0;34m\u001b[0m\u001b[0m\n\u001b[1;32m      3\u001b[0m \u001b[0mnetflix_df\u001b[0m\u001b[0;34m.\u001b[0m\u001b[0mhead\u001b[0m\u001b[0;34m(\u001b[0m\u001b[0;34m)\u001b[0m\u001b[0;34m\u001b[0m\u001b[0;34m\u001b[0m\u001b[0m\n",
      "\u001b[0;32m/opt/anaconda3/lib/python3.11/site-packages/pandas/core/frame.py\u001b[0m in \u001b[0;36m?\u001b[0;34m(self, keys, drop, append, inplace, verify_integrity)\u001b[0m\n\u001b[1;32m   5866\u001b[0m                     \u001b[0;32mif\u001b[0m \u001b[0;32mnot\u001b[0m \u001b[0mfound\u001b[0m\u001b[0;34m:\u001b[0m\u001b[0;34m\u001b[0m\u001b[0;34m\u001b[0m\u001b[0m\n\u001b[1;32m   5867\u001b[0m                         \u001b[0mmissing\u001b[0m\u001b[0;34m.\u001b[0m\u001b[0mappend\u001b[0m\u001b[0;34m(\u001b[0m\u001b[0mcol\u001b[0m\u001b[0;34m)\u001b[0m\u001b[0;34m\u001b[0m\u001b[0;34m\u001b[0m\u001b[0m\n\u001b[1;32m   5868\u001b[0m \u001b[0;34m\u001b[0m\u001b[0m\n\u001b[1;32m   5869\u001b[0m         \u001b[0;32mif\u001b[0m \u001b[0mmissing\u001b[0m\u001b[0;34m:\u001b[0m\u001b[0;34m\u001b[0m\u001b[0;34m\u001b[0m\u001b[0m\n\u001b[0;32m-> 5870\u001b[0;31m             \u001b[0;32mraise\u001b[0m \u001b[0mKeyError\u001b[0m\u001b[0;34m(\u001b[0m\u001b[0;34mf\"None of {missing} are in the columns\"\u001b[0m\u001b[0;34m)\u001b[0m\u001b[0;34m\u001b[0m\u001b[0;34m\u001b[0m\u001b[0m\n\u001b[0m\u001b[1;32m   5871\u001b[0m \u001b[0;34m\u001b[0m\u001b[0m\n\u001b[1;32m   5872\u001b[0m         \u001b[0;32mif\u001b[0m \u001b[0minplace\u001b[0m\u001b[0;34m:\u001b[0m\u001b[0;34m\u001b[0m\u001b[0;34m\u001b[0m\u001b[0m\n\u001b[1;32m   5873\u001b[0m             \u001b[0mframe\u001b[0m \u001b[0;34m=\u001b[0m \u001b[0mself\u001b[0m\u001b[0;34m\u001b[0m\u001b[0;34m\u001b[0m\u001b[0m\n",
      "\u001b[0;31mKeyError\u001b[0m: \"None of ['User ID'] are in the columns\""
     ]
    }
   ],
   "source": [
    "netflix_df = df_2.set_index(\"User ID\")\n",
    "\n",
    "netflix_df.head()"
   ]
  },
  {
   "cell_type": "code",
   "execution_count": 105,
   "metadata": {},
   "outputs": [
    {
     "data": {
      "text/html": [
       "<div>\n",
       "<style scoped>\n",
       "    .dataframe tbody tr th:only-of-type {\n",
       "        vertical-align: middle;\n",
       "    }\n",
       "\n",
       "    .dataframe tbody tr th {\n",
       "        vertical-align: top;\n",
       "    }\n",
       "\n",
       "    .dataframe thead th {\n",
       "        text-align: right;\n",
       "    }\n",
       "</style>\n",
       "<table border=\"1\" class=\"dataframe\">\n",
       "  <thead>\n",
       "    <tr style=\"text-align: right;\">\n",
       "      <th></th>\n",
       "      <th>Country</th>\n",
       "      <th>Device</th>\n",
       "      <th>Subscription Type</th>\n",
       "      <th>Age</th>\n",
       "      <th>Gender</th>\n",
       "      <th>Monthly Revenue</th>\n",
       "    </tr>\n",
       "    <tr>\n",
       "      <th>User ID</th>\n",
       "      <th></th>\n",
       "      <th></th>\n",
       "      <th></th>\n",
       "      <th></th>\n",
       "      <th></th>\n",
       "      <th></th>\n",
       "    </tr>\n",
       "  </thead>\n",
       "  <tbody>\n",
       "    <tr>\n",
       "      <th>1</th>\n",
       "      <td>United States</td>\n",
       "      <td>Smartphone</td>\n",
       "      <td>Basic</td>\n",
       "      <td>28</td>\n",
       "      <td>Male</td>\n",
       "      <td>10</td>\n",
       "    </tr>\n",
       "    <tr>\n",
       "      <th>2</th>\n",
       "      <td>Canada</td>\n",
       "      <td>Tablet</td>\n",
       "      <td>Premium</td>\n",
       "      <td>35</td>\n",
       "      <td>Female</td>\n",
       "      <td>15</td>\n",
       "    </tr>\n",
       "    <tr>\n",
       "      <th>3</th>\n",
       "      <td>United Kingdom</td>\n",
       "      <td>Smart TV</td>\n",
       "      <td>Standard</td>\n",
       "      <td>42</td>\n",
       "      <td>Male</td>\n",
       "      <td>12</td>\n",
       "    </tr>\n",
       "    <tr>\n",
       "      <th>4</th>\n",
       "      <td>Australia</td>\n",
       "      <td>Laptop</td>\n",
       "      <td>Standard</td>\n",
       "      <td>51</td>\n",
       "      <td>Female</td>\n",
       "      <td>12</td>\n",
       "    </tr>\n",
       "    <tr>\n",
       "      <th>5</th>\n",
       "      <td>Germany</td>\n",
       "      <td>Smartphone</td>\n",
       "      <td>Basic</td>\n",
       "      <td>33</td>\n",
       "      <td>Male</td>\n",
       "      <td>10</td>\n",
       "    </tr>\n",
       "  </tbody>\n",
       "</table>\n",
       "</div>"
      ],
      "text/plain": [
       "0               Country      Device Subscription Type Age  Gender  \\\n",
       "User ID                                                             \n",
       "1         United States  Smartphone             Basic  28    Male   \n",
       "2                Canada      Tablet           Premium  35  Female   \n",
       "3        United Kingdom    Smart TV          Standard  42    Male   \n",
       "4             Australia      Laptop          Standard  51  Female   \n",
       "5               Germany  Smartphone             Basic  33    Male   \n",
       "\n",
       "0       Monthly Revenue  \n",
       "User ID                  \n",
       "1                    10  \n",
       "2                    15  \n",
       "3                    12  \n",
       "4                    12  \n",
       "5                    10  "
      ]
     },
     "execution_count": 105,
     "metadata": {},
     "output_type": "execute_result"
    }
   ],
   "source": [
    "netflix_df = netflix_df[[\"Country\",\"Device\", \"Subscription Type\",\"Age\",\"Gender\",\"Monthly Revenue\"]]\n",
    "\n",
    "netflix_df.head()"
   ]
  },
  {
   "cell_type": "code",
   "execution_count": 106,
   "metadata": {},
   "outputs": [
    {
     "data": {
      "text/html": [
       "<div>\n",
       "<style scoped>\n",
       "    .dataframe tbody tr th:only-of-type {\n",
       "        vertical-align: middle;\n",
       "    }\n",
       "\n",
       "    .dataframe tbody tr th {\n",
       "        vertical-align: top;\n",
       "    }\n",
       "\n",
       "    .dataframe thead th {\n",
       "        text-align: right;\n",
       "    }\n",
       "</style>\n",
       "<table border=\"1\" class=\"dataframe\">\n",
       "  <thead>\n",
       "    <tr style=\"text-align: right;\">\n",
       "      <th></th>\n",
       "      <th>Country</th>\n",
       "      <th>Device</th>\n",
       "      <th>Subscription Type</th>\n",
       "      <th>Age</th>\n",
       "      <th>Gender</th>\n",
       "      <th>Monthly Cost</th>\n",
       "    </tr>\n",
       "    <tr>\n",
       "      <th>User ID</th>\n",
       "      <th></th>\n",
       "      <th></th>\n",
       "      <th></th>\n",
       "      <th></th>\n",
       "      <th></th>\n",
       "      <th></th>\n",
       "    </tr>\n",
       "  </thead>\n",
       "  <tbody>\n",
       "    <tr>\n",
       "      <th>1</th>\n",
       "      <td>United States</td>\n",
       "      <td>Smartphone</td>\n",
       "      <td>Basic</td>\n",
       "      <td>28</td>\n",
       "      <td>Male</td>\n",
       "      <td>10</td>\n",
       "    </tr>\n",
       "    <tr>\n",
       "      <th>2</th>\n",
       "      <td>Canada</td>\n",
       "      <td>Tablet</td>\n",
       "      <td>Premium</td>\n",
       "      <td>35</td>\n",
       "      <td>Female</td>\n",
       "      <td>15</td>\n",
       "    </tr>\n",
       "    <tr>\n",
       "      <th>3</th>\n",
       "      <td>United Kingdom</td>\n",
       "      <td>Smart TV</td>\n",
       "      <td>Standard</td>\n",
       "      <td>42</td>\n",
       "      <td>Male</td>\n",
       "      <td>12</td>\n",
       "    </tr>\n",
       "    <tr>\n",
       "      <th>4</th>\n",
       "      <td>Australia</td>\n",
       "      <td>Laptop</td>\n",
       "      <td>Standard</td>\n",
       "      <td>51</td>\n",
       "      <td>Female</td>\n",
       "      <td>12</td>\n",
       "    </tr>\n",
       "    <tr>\n",
       "      <th>5</th>\n",
       "      <td>Germany</td>\n",
       "      <td>Smartphone</td>\n",
       "      <td>Basic</td>\n",
       "      <td>33</td>\n",
       "      <td>Male</td>\n",
       "      <td>10</td>\n",
       "    </tr>\n",
       "  </tbody>\n",
       "</table>\n",
       "</div>"
      ],
      "text/plain": [
       "0               Country      Device Subscription Type Age  Gender Monthly Cost\n",
       "User ID                                                                       \n",
       "1         United States  Smartphone             Basic  28    Male           10\n",
       "2                Canada      Tablet           Premium  35  Female           15\n",
       "3        United Kingdom    Smart TV          Standard  42    Male           12\n",
       "4             Australia      Laptop          Standard  51  Female           12\n",
       "5               Germany  Smartphone             Basic  33    Male           10"
      ]
     },
     "execution_count": 106,
     "metadata": {},
     "output_type": "execute_result"
    }
   ],
   "source": [
    "netflix_df = netflix_df.rename(columns={\"Monthly Revenue\" : \"Monthly Cost\"})\n",
    "\n",
    "netflix_df.head()"
   ]
  },
  {
   "cell_type": "code",
   "execution_count": 107,
   "metadata": {},
   "outputs": [
    {
     "data": {
      "text/html": [
       "<div>\n",
       "<style scoped>\n",
       "    .dataframe tbody tr th:only-of-type {\n",
       "        vertical-align: middle;\n",
       "    }\n",
       "\n",
       "    .dataframe tbody tr th {\n",
       "        vertical-align: top;\n",
       "    }\n",
       "\n",
       "    .dataframe thead th {\n",
       "        text-align: right;\n",
       "    }\n",
       "</style>\n",
       "<table border=\"1\" class=\"dataframe\">\n",
       "  <thead>\n",
       "    <tr style=\"text-align: right;\">\n",
       "      <th></th>\n",
       "      <th>Country</th>\n",
       "      <th>Device</th>\n",
       "      <th>Subscription Type</th>\n",
       "      <th>Age</th>\n",
       "      <th>Gender</th>\n",
       "      <th>Monthly Cost</th>\n",
       "    </tr>\n",
       "    <tr>\n",
       "      <th>User ID</th>\n",
       "      <th></th>\n",
       "      <th></th>\n",
       "      <th></th>\n",
       "      <th></th>\n",
       "      <th></th>\n",
       "      <th></th>\n",
       "    </tr>\n",
       "  </thead>\n",
       "  <tbody>\n",
       "    <tr>\n",
       "      <th>1019</th>\n",
       "      <td>Australia</td>\n",
       "      <td>Tablet</td>\n",
       "      <td>Standard</td>\n",
       "      <td>27</td>\n",
       "      <td>Female</td>\n",
       "      <td>14</td>\n",
       "    </tr>\n",
       "    <tr>\n",
       "      <th>314</th>\n",
       "      <td>Australia</td>\n",
       "      <td>Laptop</td>\n",
       "      <td>Basic</td>\n",
       "      <td>28</td>\n",
       "      <td>Male</td>\n",
       "      <td>10</td>\n",
       "    </tr>\n",
       "    <tr>\n",
       "      <th>404</th>\n",
       "      <td>Australia</td>\n",
       "      <td>Smartphone</td>\n",
       "      <td>Premium</td>\n",
       "      <td>28</td>\n",
       "      <td>Male</td>\n",
       "      <td>13</td>\n",
       "    </tr>\n",
       "    <tr>\n",
       "      <th>929</th>\n",
       "      <td>Australia</td>\n",
       "      <td>Smart TV</td>\n",
       "      <td>Premium</td>\n",
       "      <td>44</td>\n",
       "      <td>Male</td>\n",
       "      <td>13</td>\n",
       "    </tr>\n",
       "    <tr>\n",
       "      <th>1829</th>\n",
       "      <td>Australia</td>\n",
       "      <td>Tablet</td>\n",
       "      <td>Premium</td>\n",
       "      <td>36</td>\n",
       "      <td>Female</td>\n",
       "      <td>13</td>\n",
       "    </tr>\n",
       "  </tbody>\n",
       "</table>\n",
       "</div>"
      ],
      "text/plain": [
       "0          Country      Device Subscription Type Age  Gender Monthly Cost\n",
       "User ID                                                                  \n",
       "1019     Australia      Tablet          Standard  27  Female           14\n",
       "314      Australia      Laptop             Basic  28    Male           10\n",
       "404      Australia  Smartphone           Premium  28    Male           13\n",
       "929      Australia    Smart TV           Premium  44    Male           13\n",
       "1829     Australia      Tablet           Premium  36  Female           13"
      ]
     },
     "execution_count": 107,
     "metadata": {},
     "output_type": "execute_result"
    }
   ],
   "source": [
    "netflix_df = netflix_df.sort_values(\"Country\")\n",
    "\n",
    "netflix_df.head()"
   ]
  },
  {
   "cell_type": "code",
   "execution_count": 108,
   "metadata": {},
   "outputs": [
    {
     "data": {
      "text/plain": [
       "Country\n",
       "Spain             451\n",
       "United States     451\n",
       "Canada            317\n",
       "Australia         183\n",
       "Brazil            183\n",
       "France            183\n",
       "Germany           183\n",
       "Italy             183\n",
       "Mexico            183\n",
       "United Kingdom    183\n",
       "Name: count, dtype: int64"
      ]
     },
     "execution_count": 108,
     "metadata": {},
     "output_type": "execute_result"
    }
   ],
   "source": [
    "netflix_df[\"Country\"].value_counts()"
   ]
  },
  {
   "cell_type": "code",
   "execution_count": 109,
   "metadata": {},
   "outputs": [
    {
     "data": {
      "text/plain": [
       "Device\n",
       "Laptop        636\n",
       "Tablet        633\n",
       "Smartphone    621\n",
       "Smart TV      610\n",
       "Name: count, dtype: int64"
      ]
     },
     "execution_count": 109,
     "metadata": {},
     "output_type": "execute_result"
    }
   ],
   "source": [
    "netflix_df[\"Device\"].value_counts()"
   ]
  },
  {
   "cell_type": "code",
   "execution_count": 110,
   "metadata": {},
   "outputs": [
    {
     "data": {
      "text/plain": [
       "Subscription Type\n",
       "Basic       999\n",
       "Standard    768\n",
       "Premium     733\n",
       "Name: count, dtype: int64"
      ]
     },
     "execution_count": 110,
     "metadata": {},
     "output_type": "execute_result"
    }
   ],
   "source": [
    "netflix_df[\"Subscription Type\"].value_counts()"
   ]
  },
  {
   "cell_type": "code",
   "execution_count": 111,
   "metadata": {},
   "outputs": [
    {
     "data": {
      "text/plain": [
       "Gender\n",
       "Female    1257\n",
       "Male      1243\n",
       "Name: count, dtype: int64"
      ]
     },
     "execution_count": 111,
     "metadata": {},
     "output_type": "execute_result"
    }
   ],
   "source": [
    "netflix_df[\"Gender\"].value_counts()"
   ]
  },
  {
   "cell_type": "code",
   "execution_count": 112,
   "metadata": {},
   "outputs": [
    {
     "data": {
      "text/plain": [
       "Age\n",
       "30    116\n",
       "39    116\n",
       "28    115\n",
       "31    115\n",
       "41    114\n",
       "47    111\n",
       "37    107\n",
       "35    105\n",
       "29    104\n",
       "40    103\n",
       "42    102\n",
       "48    101\n",
       "46     99\n",
       "36     99\n",
       "49     97\n",
       "43     94\n",
       "51     93\n",
       "33     93\n",
       "32     92\n",
       "45     89\n",
       "38     89\n",
       "34     88\n",
       "27     87\n",
       "44     86\n",
       "50     84\n",
       "26      1\n",
       "Name: count, dtype: int64"
      ]
     },
     "execution_count": 112,
     "metadata": {},
     "output_type": "execute_result"
    }
   ],
   "source": [
    "netflix_df[\"Age\"].value_counts()"
   ]
  },
  {
   "cell_type": "code",
   "execution_count": 113,
   "metadata": {},
   "outputs": [
    {
     "data": {
      "text/plain": [
       "Monthly Cost\n",
       "12    455\n",
       "14    431\n",
       "13    418\n",
       "10    409\n",
       "15    399\n",
       "11    388\n",
       "Name: count, dtype: int64"
      ]
     },
     "execution_count": 113,
     "metadata": {},
     "output_type": "execute_result"
    }
   ],
   "source": [
    "netflix_df[\"Monthly Cost\"].value_counts()"
   ]
  },
  {
   "cell_type": "code",
   "execution_count": 114,
   "metadata": {},
   "outputs": [
    {
     "data": {
      "text/plain": [
       "Device\n",
       "Laptop        121\n",
       "Smart TV      116\n",
       "Tablet        115\n",
       "Smartphone     99\n",
       "Name: count, dtype: int64"
      ]
     },
     "execution_count": 114,
     "metadata": {},
     "output_type": "execute_result"
    }
   ],
   "source": [
    "#this shows the most popular device in the US\n",
    "\n",
    "us_data = netflix_df[netflix_df[\"Country\"] == \"United States\"]\n",
    "us_device = us_data[\"Device\"].value_counts()\n",
    "\n",
    "us_device.head()"
   ]
  },
  {
   "cell_type": "code",
   "execution_count": 115,
   "metadata": {},
   "outputs": [
    {
     "data": {
      "text/plain": [
       "Subscription Type\n",
       "Basic       199\n",
       "Premium     145\n",
       "Standard    107\n",
       "Name: count, dtype: int64"
      ]
     },
     "execution_count": 115,
     "metadata": {},
     "output_type": "execute_result"
    }
   ],
   "source": [
    "#this shows the most popular subscription type in the US\n",
    "\n",
    "us_subtype = us_data[\"Subscription Type\"].value_counts()\n",
    "\n",
    "us_subtype.head()"
   ]
  },
  {
   "cell_type": "code",
   "execution_count": 116,
   "metadata": {},
   "outputs": [
    {
     "data": {
      "text/plain": [
       "Gender\n",
       "Male      226\n",
       "Female    225\n",
       "Name: count, dtype: int64"
      ]
     },
     "execution_count": 116,
     "metadata": {},
     "output_type": "execute_result"
    }
   ],
   "source": [
    "us_gender = us_data[\"Gender\"].value_counts()\n",
    "\n",
    "us_gender.head()"
   ]
  },
  {
   "cell_type": "code",
   "execution_count": 117,
   "metadata": {},
   "outputs": [
    {
     "data": {
      "text/plain": [
       "Age\n",
       "30    27\n",
       "42    24\n",
       "29    24\n",
       "47    24\n",
       "48    21\n",
       "Name: count, dtype: int64"
      ]
     },
     "execution_count": 117,
     "metadata": {},
     "output_type": "execute_result"
    }
   ],
   "source": [
    "us_age = us_data[\"Age\"].value_counts()\n",
    "\n",
    "us_age.head()"
   ]
  },
  {
   "cell_type": "code",
   "execution_count": 118,
   "metadata": {},
   "outputs": [
    {
     "data": {
      "text/plain": [
       "Monthly Cost\n",
       "12    86\n",
       "15    82\n",
       "13    77\n",
       "10    75\n",
       "14    70\n",
       "Name: count, dtype: int64"
      ]
     },
     "execution_count": 118,
     "metadata": {},
     "output_type": "execute_result"
    }
   ],
   "source": [
    "us_cost = us_data[\"Monthly Cost\"].value_counts()\n",
    "\n",
    "us_cost.head()"
   ]
  },
  {
   "cell_type": "markdown",
   "metadata": {},
   "source": [
    "#Device Usage Comparison Among Countries\n"
   ]
  },
  {
   "cell_type": "code",
   "execution_count": 119,
   "metadata": {},
   "outputs": [
    {
     "name": "stdout",
     "output_type": "stream",
     "text": [
      "Country\n",
      "United States     121\n",
      "Spain             107\n",
      "Canada             64\n",
      "Germany            63\n",
      "France             52\n",
      "Italy              50\n",
      "Australia          47\n",
      "Brazil             44\n",
      "Mexico             44\n",
      "United Kingdom     44\n",
      "Name: count, dtype: int64\n"
     ]
    }
   ],
   "source": [
    "#here and below you can see how device usage compares between countries\n",
    "\n",
    "worldwide_laptop_usage = netflix_df[netflix_df[\"Device\"] == \"Laptop\"][\"Country\"].value_counts().sort_values(ascending=False)\n",
    "print(worldwide_laptop_usage)"
   ]
  },
  {
   "cell_type": "code",
   "execution_count": 137,
   "metadata": {},
   "outputs": [
    {
     "name": "stdout",
     "output_type": "stream",
     "text": [
      "Country\n",
      "Spain             126\n",
      "United States     116\n",
      "Canada             78\n",
      "Italy              46\n",
      "France             43\n",
      "Germany            42\n",
      "Mexico             41\n",
      "Brazil             40\n",
      "United Kingdom     40\n",
      "Australia          38\n",
      "Name: count, dtype: int64\n"
     ]
    }
   ],
   "source": [
    "worldwide_tv_usage = netflix_df[netflix_df[\"Device\"] == \"Smart TV\"][\"Country\"].value_counts().sort_values(ascending=False)\n",
    "print(worldwide_tv_usage)"
   ]
  },
  {
   "cell_type": "code",
   "execution_count": 135,
   "metadata": {},
   "outputs": [
    {
     "name": "stdout",
     "output_type": "stream",
     "text": [
      "Country\n",
      "Spain             102\n",
      "United States      99\n",
      "Canada             80\n",
      "Australia          55\n",
      "Brazil             55\n",
      "United Kingdom     54\n",
      "France             47\n",
      "Italy              47\n",
      "Mexico             46\n",
      "Germany            36\n",
      "Name: count, dtype: int64\n"
     ]
    }
   ],
   "source": [
    "worldwide_smartphone_usage = netflix_df[netflix_df[\"Device\"] == \"Smartphone\"][\"Country\"].value_counts().sort_values(ascending=False)\n",
    "print(worldwide_smartphone_usage)"
   ]
  },
  {
   "cell_type": "code",
   "execution_count": 136,
   "metadata": {},
   "outputs": [
    {
     "name": "stdout",
     "output_type": "stream",
     "text": [
      "Country\n",
      "Spain             116\n",
      "United States     115\n",
      "Canada             95\n",
      "Mexico             52\n",
      "United Kingdom     45\n",
      "Brazil             44\n",
      "Australia          43\n",
      "Germany            42\n",
      "France             41\n",
      "Italy              40\n",
      "Name: count, dtype: int64\n"
     ]
    }
   ],
   "source": [
    "worldwide_tablet_usage = netflix_df[netflix_df[\"Device\"] == \"Tablet\"][\"Country\"].value_counts().sort_values(ascending=False)\n",
    "print(worldwide_tablet_usage)"
   ]
  },
  {
   "cell_type": "code",
   "execution_count": 120,
   "metadata": {},
   "outputs": [
    {
     "data": {
      "text/html": [
       "<div>\n",
       "<style scoped>\n",
       "    .dataframe tbody tr th:only-of-type {\n",
       "        vertical-align: middle;\n",
       "    }\n",
       "\n",
       "    .dataframe tbody tr th {\n",
       "        vertical-align: top;\n",
       "    }\n",
       "\n",
       "    .dataframe thead th {\n",
       "        text-align: right;\n",
       "    }\n",
       "</style>\n",
       "<table border=\"1\" class=\"dataframe\">\n",
       "  <thead>\n",
       "    <tr style=\"text-align: right;\">\n",
       "      <th></th>\n",
       "      <th>show_id</th>\n",
       "      <th>type</th>\n",
       "      <th>title</th>\n",
       "      <th>director</th>\n",
       "      <th>cast</th>\n",
       "      <th>country</th>\n",
       "      <th>date_added</th>\n",
       "      <th>release_year</th>\n",
       "      <th>rating</th>\n",
       "      <th>duration</th>\n",
       "      <th>listed_in</th>\n",
       "      <th>description</th>\n",
       "    </tr>\n",
       "  </thead>\n",
       "  <tbody>\n",
       "    <tr>\n",
       "      <th>0</th>\n",
       "      <td>s1</td>\n",
       "      <td>Movie</td>\n",
       "      <td>Dick Johnson Is Dead</td>\n",
       "      <td>Kirsten Johnson</td>\n",
       "      <td>NaN</td>\n",
       "      <td>United States</td>\n",
       "      <td>September 25, 2021</td>\n",
       "      <td>2020</td>\n",
       "      <td>PG-13</td>\n",
       "      <td>90 min</td>\n",
       "      <td>Documentaries</td>\n",
       "      <td>As her father nears the end of his life, filmm...</td>\n",
       "    </tr>\n",
       "    <tr>\n",
       "      <th>1</th>\n",
       "      <td>s2</td>\n",
       "      <td>TV Show</td>\n",
       "      <td>Blood &amp; Water</td>\n",
       "      <td>NaN</td>\n",
       "      <td>Ama Qamata, Khosi Ngema, Gail Mabalane, Thaban...</td>\n",
       "      <td>South Africa</td>\n",
       "      <td>September 24, 2021</td>\n",
       "      <td>2021</td>\n",
       "      <td>TV-MA</td>\n",
       "      <td>2 Seasons</td>\n",
       "      <td>International TV Shows, TV Dramas, TV Mysteries</td>\n",
       "      <td>After crossing paths at a party, a Cape Town t...</td>\n",
       "    </tr>\n",
       "    <tr>\n",
       "      <th>2</th>\n",
       "      <td>s3</td>\n",
       "      <td>TV Show</td>\n",
       "      <td>Ganglands</td>\n",
       "      <td>Julien Leclercq</td>\n",
       "      <td>Sami Bouajila, Tracy Gotoas, Samuel Jouy, Nabi...</td>\n",
       "      <td>NaN</td>\n",
       "      <td>September 24, 2021</td>\n",
       "      <td>2021</td>\n",
       "      <td>TV-MA</td>\n",
       "      <td>1 Season</td>\n",
       "      <td>Crime TV Shows, International TV Shows, TV Act...</td>\n",
       "      <td>To protect his family from a powerful drug lor...</td>\n",
       "    </tr>\n",
       "    <tr>\n",
       "      <th>3</th>\n",
       "      <td>s4</td>\n",
       "      <td>TV Show</td>\n",
       "      <td>Jailbirds New Orleans</td>\n",
       "      <td>NaN</td>\n",
       "      <td>NaN</td>\n",
       "      <td>NaN</td>\n",
       "      <td>September 24, 2021</td>\n",
       "      <td>2021</td>\n",
       "      <td>TV-MA</td>\n",
       "      <td>1 Season</td>\n",
       "      <td>Docuseries, Reality TV</td>\n",
       "      <td>Feuds, flirtations and toilet talk go down amo...</td>\n",
       "    </tr>\n",
       "    <tr>\n",
       "      <th>4</th>\n",
       "      <td>s5</td>\n",
       "      <td>TV Show</td>\n",
       "      <td>Kota Factory</td>\n",
       "      <td>NaN</td>\n",
       "      <td>Mayur More, Jitendra Kumar, Ranjan Raj, Alam K...</td>\n",
       "      <td>India</td>\n",
       "      <td>September 24, 2021</td>\n",
       "      <td>2021</td>\n",
       "      <td>TV-MA</td>\n",
       "      <td>2 Seasons</td>\n",
       "      <td>International TV Shows, Romantic TV Shows, TV ...</td>\n",
       "      <td>In a city of coaching centers known to train I...</td>\n",
       "    </tr>\n",
       "  </tbody>\n",
       "</table>\n",
       "</div>"
      ],
      "text/plain": [
       "  show_id     type                  title         director  \\\n",
       "0      s1    Movie   Dick Johnson Is Dead  Kirsten Johnson   \n",
       "1      s2  TV Show          Blood & Water              NaN   \n",
       "2      s3  TV Show              Ganglands  Julien Leclercq   \n",
       "3      s4  TV Show  Jailbirds New Orleans              NaN   \n",
       "4      s5  TV Show           Kota Factory              NaN   \n",
       "\n",
       "                                                cast        country  \\\n",
       "0                                                NaN  United States   \n",
       "1  Ama Qamata, Khosi Ngema, Gail Mabalane, Thaban...   South Africa   \n",
       "2  Sami Bouajila, Tracy Gotoas, Samuel Jouy, Nabi...            NaN   \n",
       "3                                                NaN            NaN   \n",
       "4  Mayur More, Jitendra Kumar, Ranjan Raj, Alam K...          India   \n",
       "\n",
       "           date_added  release_year rating   duration  \\\n",
       "0  September 25, 2021          2020  PG-13     90 min   \n",
       "1  September 24, 2021          2021  TV-MA  2 Seasons   \n",
       "2  September 24, 2021          2021  TV-MA   1 Season   \n",
       "3  September 24, 2021          2021  TV-MA   1 Season   \n",
       "4  September 24, 2021          2021  TV-MA  2 Seasons   \n",
       "\n",
       "                                           listed_in  \\\n",
       "0                                      Documentaries   \n",
       "1    International TV Shows, TV Dramas, TV Mysteries   \n",
       "2  Crime TV Shows, International TV Shows, TV Act...   \n",
       "3                             Docuseries, Reality TV   \n",
       "4  International TV Shows, Romantic TV Shows, TV ...   \n",
       "\n",
       "                                         description  \n",
       "0  As her father nears the end of his life, filmm...  \n",
       "1  After crossing paths at a party, a Cape Town t...  \n",
       "2  To protect his family from a powerful drug lor...  \n",
       "3  Feuds, flirtations and toilet talk go down amo...  \n",
       "4  In a city of coaching centers known to train I...  "
      ]
     },
     "execution_count": 120,
     "metadata": {},
     "output_type": "execute_result"
    }
   ],
   "source": [
    "csv_path = Path(\"/Users/cillian/Downloads/netflixfacts.csv\")\n",
    "titles_df = pd.read_csv(csv_path)\n",
    "\n",
    "titles_df.head()"
   ]
  },
  {
   "cell_type": "code",
   "execution_count": 121,
   "metadata": {},
   "outputs": [
    {
     "data": {
      "text/html": [
       "<div>\n",
       "<style scoped>\n",
       "    .dataframe tbody tr th:only-of-type {\n",
       "        vertical-align: middle;\n",
       "    }\n",
       "\n",
       "    .dataframe tbody tr th {\n",
       "        vertical-align: top;\n",
       "    }\n",
       "\n",
       "    .dataframe thead th {\n",
       "        text-align: right;\n",
       "    }\n",
       "</style>\n",
       "<table border=\"1\" class=\"dataframe\">\n",
       "  <thead>\n",
       "    <tr style=\"text-align: right;\">\n",
       "      <th></th>\n",
       "      <th>title</th>\n",
       "      <th>country</th>\n",
       "      <th>release_year</th>\n",
       "      <th>listed_in</th>\n",
       "      <th>type</th>\n",
       "    </tr>\n",
       "  </thead>\n",
       "  <tbody>\n",
       "    <tr>\n",
       "      <th>0</th>\n",
       "      <td>Dick Johnson Is Dead</td>\n",
       "      <td>United States</td>\n",
       "      <td>2020</td>\n",
       "      <td>Documentaries</td>\n",
       "      <td>Movie</td>\n",
       "    </tr>\n",
       "    <tr>\n",
       "      <th>1</th>\n",
       "      <td>Blood &amp; Water</td>\n",
       "      <td>South Africa</td>\n",
       "      <td>2021</td>\n",
       "      <td>International TV Shows, TV Dramas, TV Mysteries</td>\n",
       "      <td>TV Show</td>\n",
       "    </tr>\n",
       "    <tr>\n",
       "      <th>2</th>\n",
       "      <td>Ganglands</td>\n",
       "      <td>NaN</td>\n",
       "      <td>2021</td>\n",
       "      <td>Crime TV Shows, International TV Shows, TV Act...</td>\n",
       "      <td>TV Show</td>\n",
       "    </tr>\n",
       "    <tr>\n",
       "      <th>3</th>\n",
       "      <td>Jailbirds New Orleans</td>\n",
       "      <td>NaN</td>\n",
       "      <td>2021</td>\n",
       "      <td>Docuseries, Reality TV</td>\n",
       "      <td>TV Show</td>\n",
       "    </tr>\n",
       "    <tr>\n",
       "      <th>4</th>\n",
       "      <td>Kota Factory</td>\n",
       "      <td>India</td>\n",
       "      <td>2021</td>\n",
       "      <td>International TV Shows, Romantic TV Shows, TV ...</td>\n",
       "      <td>TV Show</td>\n",
       "    </tr>\n",
       "  </tbody>\n",
       "</table>\n",
       "</div>"
      ],
      "text/plain": [
       "                   title        country  release_year  \\\n",
       "0   Dick Johnson Is Dead  United States          2020   \n",
       "1          Blood & Water   South Africa          2021   \n",
       "2              Ganglands            NaN          2021   \n",
       "3  Jailbirds New Orleans            NaN          2021   \n",
       "4           Kota Factory          India          2021   \n",
       "\n",
       "                                           listed_in     type  \n",
       "0                                      Documentaries    Movie  \n",
       "1    International TV Shows, TV Dramas, TV Mysteries  TV Show  \n",
       "2  Crime TV Shows, International TV Shows, TV Act...  TV Show  \n",
       "3                             Docuseries, Reality TV  TV Show  \n",
       "4  International TV Shows, Romantic TV Shows, TV ...  TV Show  "
      ]
     },
     "execution_count": 121,
     "metadata": {},
     "output_type": "execute_result"
    }
   ],
   "source": [
    "titles_df = titles_df[[\"title\", \"country\", \"release_year\", \"listed_in\", \"type\"]]\n",
    "\n",
    "titles_df.head()"
   ]
  },
  {
   "cell_type": "code",
   "execution_count": 122,
   "metadata": {},
   "outputs": [
    {
     "data": {
      "text/html": [
       "<div>\n",
       "<style scoped>\n",
       "    .dataframe tbody tr th:only-of-type {\n",
       "        vertical-align: middle;\n",
       "    }\n",
       "\n",
       "    .dataframe tbody tr th {\n",
       "        vertical-align: top;\n",
       "    }\n",
       "\n",
       "    .dataframe thead th {\n",
       "        text-align: right;\n",
       "    }\n",
       "</style>\n",
       "<table border=\"1\" class=\"dataframe\">\n",
       "  <thead>\n",
       "    <tr style=\"text-align: right;\">\n",
       "      <th></th>\n",
       "      <th>Title</th>\n",
       "      <th>Country</th>\n",
       "      <th>Release Year</th>\n",
       "      <th>Genre</th>\n",
       "      <th>Type</th>\n",
       "    </tr>\n",
       "  </thead>\n",
       "  <tbody>\n",
       "    <tr>\n",
       "      <th>0</th>\n",
       "      <td>Dick Johnson Is Dead</td>\n",
       "      <td>United States</td>\n",
       "      <td>2020</td>\n",
       "      <td>Documentaries</td>\n",
       "      <td>Movie</td>\n",
       "    </tr>\n",
       "    <tr>\n",
       "      <th>1</th>\n",
       "      <td>Blood &amp; Water</td>\n",
       "      <td>South Africa</td>\n",
       "      <td>2021</td>\n",
       "      <td>International TV Shows, TV Dramas, TV Mysteries</td>\n",
       "      <td>TV Show</td>\n",
       "    </tr>\n",
       "    <tr>\n",
       "      <th>2</th>\n",
       "      <td>Ganglands</td>\n",
       "      <td>NaN</td>\n",
       "      <td>2021</td>\n",
       "      <td>Crime TV Shows, International TV Shows, TV Act...</td>\n",
       "      <td>TV Show</td>\n",
       "    </tr>\n",
       "    <tr>\n",
       "      <th>3</th>\n",
       "      <td>Jailbirds New Orleans</td>\n",
       "      <td>NaN</td>\n",
       "      <td>2021</td>\n",
       "      <td>Docuseries, Reality TV</td>\n",
       "      <td>TV Show</td>\n",
       "    </tr>\n",
       "    <tr>\n",
       "      <th>4</th>\n",
       "      <td>Kota Factory</td>\n",
       "      <td>India</td>\n",
       "      <td>2021</td>\n",
       "      <td>International TV Shows, Romantic TV Shows, TV ...</td>\n",
       "      <td>TV Show</td>\n",
       "    </tr>\n",
       "  </tbody>\n",
       "</table>\n",
       "</div>"
      ],
      "text/plain": [
       "                   Title        Country  Release Year  \\\n",
       "0   Dick Johnson Is Dead  United States          2020   \n",
       "1          Blood & Water   South Africa          2021   \n",
       "2              Ganglands            NaN          2021   \n",
       "3  Jailbirds New Orleans            NaN          2021   \n",
       "4           Kota Factory          India          2021   \n",
       "\n",
       "                                               Genre     Type  \n",
       "0                                      Documentaries    Movie  \n",
       "1    International TV Shows, TV Dramas, TV Mysteries  TV Show  \n",
       "2  Crime TV Shows, International TV Shows, TV Act...  TV Show  \n",
       "3                             Docuseries, Reality TV  TV Show  \n",
       "4  International TV Shows, Romantic TV Shows, TV ...  TV Show  "
      ]
     },
     "execution_count": 122,
     "metadata": {},
     "output_type": "execute_result"
    }
   ],
   "source": [
    "titles_df = titles_df.rename(columns={\"title\" : \"Title\", \"country\" : \"Country\", \"release_year\" : \"Release Year\", \"listed_in\" : \"Genre\", \"type\" : \"Type\"})\n",
    "\n",
    "titles_df.head()"
   ]
  },
  {
   "cell_type": "code",
   "execution_count": 123,
   "metadata": {},
   "outputs": [
    {
     "data": {
      "text/plain": [
       "Type\n",
       "Movie      6131\n",
       "TV Show    2676\n",
       "Name: count, dtype: int64"
      ]
     },
     "execution_count": 123,
     "metadata": {},
     "output_type": "execute_result"
    }
   ],
   "source": [
    "#count for movies vs tv shows\n",
    "\n",
    "titles_df[\"Type\"].value_counts()\n"
   ]
  },
  {
   "cell_type": "code",
   "execution_count": 124,
   "metadata": {},
   "outputs": [
    {
     "data": {
      "text/plain": [
       "Country\n",
       "United States                             2818\n",
       "India                                      972\n",
       "United Kingdom                             419\n",
       "Japan                                      245\n",
       "South Korea                                199\n",
       "                                          ... \n",
       "Romania, Bulgaria, Hungary                   1\n",
       "Uruguay, Guatemala                           1\n",
       "France, Senegal, Belgium                     1\n",
       "Mexico, United States, Spain, Colombia       1\n",
       "United Arab Emirates, Jordan                 1\n",
       "Name: count, Length: 748, dtype: int64"
      ]
     },
     "execution_count": 124,
     "metadata": {},
     "output_type": "execute_result"
    }
   ],
   "source": [
    "#count by country\n",
    "\n",
    "titles_df[\"Country\"].value_counts()"
   ]
  },
  {
   "cell_type": "code",
   "execution_count": 125,
   "metadata": {},
   "outputs": [
    {
     "data": {
      "text/plain": [
       "Release Year\n",
       "2018    1147\n",
       "2017    1032\n",
       "2019    1030\n",
       "2020     953\n",
       "2016     902\n",
       "        ... \n",
       "1959       1\n",
       "1925       1\n",
       "1961       1\n",
       "1947       1\n",
       "1966       1\n",
       "Name: count, Length: 74, dtype: int64"
      ]
     },
     "execution_count": 125,
     "metadata": {},
     "output_type": "execute_result"
    }
   ],
   "source": [
    "#count by release year\n",
    "\n",
    "titles_df[\"Release Year\"].value_counts()"
   ]
  },
  {
   "cell_type": "code",
   "execution_count": 126,
   "metadata": {},
   "outputs": [
    {
     "data": {
      "application/vnd.jupyter.widget-view+json": {
       "model_id": "bf48d42dae25472b86b55376c9ce9d5d",
       "version_major": 2,
       "version_minor": 0
      },
      "image/png": "[encoded data removed]",
      "text/html": [
       "\n",
       "            <div style=\"display: inline-block;\">\n",
       "                <div class=\"jupyter-widgets widget-label\" style=\"text-align: center;\">\n",
       "                    Figure\n",
       "                </div>\n",
       "                <img src='data:image/png;base64,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' width=1000.0/>\n",
       "            </div>\n",
       "        "
      ],
      "text/plain": [
       "Canvas(toolbar=Toolbar(toolitems=[('Home', 'Reset original view', 'home', 'home'), ('Back', 'Back to previous …"
      ]
     },
     "metadata": {},
     "output_type": "display_data"
    }
   ],
   "source": [
    "#this graph compares the trends between movies and tv shows over the past few decades\n",
    "\n",
    "def plot_release_year_trends(titles_df):\n",
    " \n",
    "  release_year_counts = titles_df.groupby([\"Release Year\", \"Type\"])[\"Title\"].count().unstack(fill_value=0)\n",
    "\n",
    "  # Configure the plot\n",
    "  release_year_counts.plot(kind='line', figsize=(10, 6))\n",
    "  plt.xlabel('Release Year')\n",
    "  plt.ylabel('Number of Titles')\n",
    "  plt.title('Release Year Trends (Movies vs. TV Shows)')\n",
    "  plt.legend(title='Type')\n",
    "  plt.grid(True)\n",
    "  plt.show()\n",
    "\n",
    "plot_release_year_trends(titles_df.copy())\n"
   ]
  },
  {
   "cell_type": "code",
   "execution_count": 127,
   "metadata": {},
   "outputs": [
    {
     "data": {
      "text/plain": [
       "Genre\n",
       "Dramas, International Movies                          362\n",
       "Documentaries                                         359\n",
       "Stand-Up Comedy                                       334\n",
       "Comedies, Dramas, International Movies                274\n",
       "Dramas, Independent Movies, International Movies      252\n",
       "                                                     ... \n",
       "Kids' TV, TV Action & Adventure, TV Dramas              1\n",
       "TV Comedies, TV Dramas, TV Horror                       1\n",
       "Children & Family Movies, Comedies, LGBTQ Movies        1\n",
       "Kids' TV, Spanish-Language TV Shows, Teen TV Shows      1\n",
       "Cult Movies, Dramas, Thrillers                          1\n",
       "Name: count, Length: 514, dtype: int64"
      ]
     },
     "execution_count": 127,
     "metadata": {},
     "output_type": "execute_result"
    }
   ],
   "source": [
    "titles_df[\"Genre\"].value_counts()"
   ]
  },
  {
   "cell_type": "code",
   "execution_count": 128,
   "metadata": {},
   "outputs": [
    {
     "name": "stdout",
     "output_type": "stream",
     "text": [
      "359\n"
     ]
    }
   ],
   "source": [
    "#Here I used the explode command to count all of the Documentaries\n",
    "\n",
    "titles_exp = titles_df.explode(\"Genre\")\n",
    "genre_counts = titles_exp[\"Genre\"].value_counts()\n",
    "docs = genre_counts[\"Documentaries\"]\n",
    "\n",
    "print(docs)\n",
    "\n",
    "\n"
   ]
  },
  {
   "cell_type": "code",
   "execution_count": 129,
   "metadata": {},
   "outputs": [
    {
     "name": "stdout",
     "output_type": "stream",
     "text": [
      "110\n"
     ]
    }
   ],
   "source": [
    "#count for comedies\n",
    "\n",
    "titles_exp = titles_df.explode(\"Genre\")\n",
    "genre_counts = titles_exp[\"Genre\"].value_counts()\n",
    "comedies = genre_counts[\"Comedies\"]\n",
    "\n",
    "print(comedies)"
   ]
  },
  {
   "cell_type": "code",
   "execution_count": 130,
   "metadata": {},
   "outputs": [
    {
     "name": "stdout",
     "output_type": "stream",
     "text": [
      "138\n"
     ]
    }
   ],
   "source": [
    "#count for dramas\n",
    "\n",
    "titles_exp = titles_df.explode(\"Genre\")\n",
    "genre_counts = titles_exp[\"Genre\"].value_counts()\n",
    "dramas = genre_counts[\"Dramas\"]\n",
    "\n",
    "print(dramas)"
   ]
  },
  {
   "cell_type": "code",
   "execution_count": 131,
   "metadata": {},
   "outputs": [
    {
     "name": "stdout",
     "output_type": "stream",
     "text": [
      "65\n"
     ]
    }
   ],
   "source": [
    "#count for thrillers\n",
    "\n",
    "titles_exp = titles_df.explode(\"Genre\")\n",
    "genre_counts = titles_exp[\"Genre\"].value_counts()\n",
    "thrillers = genre_counts[\"Thrillers\"]\n",
    "\n",
    "print(thrillers)"
   ]
  },
  {
   "cell_type": "code",
   "execution_count": 132,
   "metadata": {},
   "outputs": [
    {
     "name": "stdout",
     "output_type": "stream",
     "text": [
      "128\n"
     ]
    }
   ],
   "source": [
    "#count for action and adventure\n",
    "\n",
    "titles_exp = titles_df.explode(\"Genre\")\n",
    "genre_counts = titles_exp[\"Genre\"].value_counts()\n",
    "AA = genre_counts[\"Action & Adventure\"]\n",
    "\n",
    "print(AA)"
   ]
  },
  {
   "cell_type": "code",
   "execution_count": 133,
   "metadata": {},
   "outputs": [
    {
     "name": "stdout",
     "output_type": "stream",
     "text": [
      "1\n"
     ]
    }
   ],
   "source": [
    "#count for sci-fi/fantasy\n",
    "\n",
    "titles_exp = titles_df.explode(\"Genre\")\n",
    "genre_counts = titles_exp[\"Genre\"].value_counts()\n",
    "scif = genre_counts[\"Sci-Fi & Fantasy\"]\n",
    "\n",
    "print(scif)"
   ]
  },
  {
   "cell_type": "code",
   "execution_count": 134,
   "metadata": {},
   "outputs": [
    {
     "name": "stdout",
     "output_type": "stream",
     "text": [
      "95\n"
     ]
    }
   ],
   "source": [
    "#count for reality tv\n",
    "\n",
    "titles_exp = titles_df.explode(\"Genre\")\n",
    "genre_counts = titles_exp[\"Genre\"].value_counts()\n",
    "reality = genre_counts[\"Reality TV\"]\n",
    "\n",
    "print(reality)"
   ]
  },
  {
   "cell_type": "code",
   "execution_count": null,
   "metadata": {},
   "outputs": [],
   "source": [
    "#Plot a pie chart to display gender\n",
    "colors = ['#DD7596', '#8EB897']\n",
    "explode= [0.1, 0, 0]\n",
    "plt.pie(us_gender,labels=us_gender.index,labeldistance=1.15, wedgeprops = { 'linewidth' : 2, 'edgecolor' : 'white' },explode=explode, colors=colors, autopct='%0.2f%%')\n",
    "plt.title('Devices')\n",
    "plt.show()"
   ]
  },
  {
   "cell_type": "code",
   "execution_count": null,
   "metadata": {},
   "outputs": [],
   "source": [
    "#Plot a pie chat to display ages of users\n",
    "colors = ['#DD7596', '#8EB897']\n",
    "explode= [0.1, 0, 0]\n",
    "plt.pie(us_gender,labels=us_gender.index,labeldistance=1.15, wedgeprops = { 'linewidth' : 2, 'edgecolor' : 'white' },explode=explode, colors=colors, autopct='%0.2f%%')\n",
    "plt.title('Devices')\n",
    "plt.show()\n"
   ]
  }
 ],
 "metadata": {
  "kernelspec": {
   "display_name": "base",
   "language": "python",
   "name": "python3"
  },
  "language_info": {
   "codemirror_mode": {
    "name": "ipython",
    "version": 3
   },
   "file_extension": ".py",
   "mimetype": "text/x-python",
   "name": "python",
   "nbconvert_exporter": "python",
   "pygments_lexer": "ipython3",
   "version": "3.11.7"
  }
 },
 "nbformat": 4,
 "nbformat_minor": 2
}
